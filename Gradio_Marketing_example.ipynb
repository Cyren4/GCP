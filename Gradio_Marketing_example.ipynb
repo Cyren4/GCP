{
  "nbformat": 4,
  "nbformat_minor": 0,
  "metadata": {
    "colab": {
      "provenance": [],
      "authorship_tag": "ABX9TyOIHNma7jXa5vuFQ56fA365",
      "include_colab_link": true
    },
    "kernelspec": {
      "name": "python3",
      "display_name": "Python 3"
    },
    "language_info": {
      "name": "python"
    }
  },
  "cells": [
    {
      "cell_type": "markdown",
      "metadata": {
        "id": "view-in-github",
        "colab_type": "text"
      },
      "source": [
        "<a href=\"https://colab.research.google.com/github/Cyren4/GCP/blob/main/Gradio_Marketing_example.ipynb\" target=\"_parent\"><img src=\"https://colab.research.google.com/assets/colab-badge.svg\" alt=\"Open In Colab\"/></a>"
      ]
    },
    {
      "cell_type": "code",
      "execution_count": null,
      "metadata": {
        "id": "QgcCy1JYpA2r"
      },
      "outputs": [],
      "source": [
        "!pip install -q gradio git+https://github.com/huggingface/transformers gradio torch\n",
        "!pip install google-cloud-aiplatform --upgrade --user"
      ]
    },
    {
      "cell_type": "code",
      "source": [
        "# # Automatically restart kernel after installs so that your environment can access the new packages\n",
        "import IPython\n",
        "\n",
        "app = IPython.Application.instance()\n",
        "app.kernel.do_shutdown(True)"
      ],
      "metadata": {
        "colab": {
          "base_uri": "https://localhost:8080/"
        },
        "id": "wjklr9TEpRim",
        "outputId": "2ac2a6af-3041-4334-929f-5777f0d3b626"
      },
      "execution_count": null,
      "outputs": [
        {
          "output_type": "execute_result",
          "data": {
            "text/plain": [
              "{'status': 'ok', 'restart': True}"
            ]
          },
          "metadata": {},
          "execution_count": 2
        }
      ]
    },
    {
      "cell_type": "code",
      "source": [
        "from google.colab import auth\n",
        "auth.authenticate_user()"
      ],
      "metadata": {
        "id": "Y62r5kPOp8cw"
      },
      "execution_count": null,
      "outputs": []
    },
    {
      "cell_type": "code",
      "source": [
        "import vertexai\n",
        "\n",
        "PROJECT_ID = \"\"  # @param {type:\"string\"}\n",
        "vertexai.init(project=PROJECT_ID, location=\"us-central1\")"
      ],
      "metadata": {
        "id": "Ue3UvpFFpVu-"
      },
      "execution_count": null,
      "outputs": []
    },
    {
      "cell_type": "code",
      "source": [
        "import pandas as pd\n",
        "import seaborn as sns\n",
        "from IPython.display import Markdown, display\n",
        "from sklearn.metrics.pairwise import cosine_similarity\n",
        "from vertexai.preview.language_models import (ChatModel, InputOutputTextPair,\n",
        "                                              TextEmbeddingModel,\n",
        "                                              TextGenerationModel)"
      ],
      "metadata": {
        "id": "b-HaFwiGpYJ1"
      },
      "execution_count": null,
      "outputs": []
    },
    {
      "cell_type": "code",
      "source": [
        "generation_model = TextGenerationModel.from_pretrained(\"text-bison@001\")"
      ],
      "metadata": {
        "id": "ocAf3Whjpf6M"
      },
      "execution_count": null,
      "outputs": []
    },
    {
      "cell_type": "code",
      "source": [
        "import gradio as gr\n",
        "\n",
        "# Table 1 : Generate a marketing campaign from brief\n",
        "def MarketingGenerator(title, content, creativity, channels, locations):\n",
        "    \"\"\"Generate a marketing campaign for a given industry.\"\"\"\n",
        "    temp = creativity/10\n",
        "\n",
        "    if not title:\n",
        "        title = generation_model.predict(\"Generate maketing campaign title for Gallery Lafayette for \" + content, temperature=temp, max_output_tokens=200, top_k=40, top_p=0.8).text\n",
        "    if \"All\" in locations :\n",
        "        locations = [\"France\"]\n",
        "\n",
        "    prompt = f\"\"\"Generate a Marketing posts for Gallerie Lafayette {content}. The title will be {title} and adapted to {channels}.\"\"\" + \\\n",
        "      f\"\"\" It will be for all shops in {\" and \".join(locations)}. The campaing will be {\"super creative\" if creativity > 5 else \"entertaining\"}\"\"\"\n",
        "\n",
        "    result = generation_model.predict(prompt, temperature=0.2, max_output_tokens=1024, top_k=40, top_p=0.8).text\n",
        "    return result\n",
        "\n",
        "demo1 = gr.Interface(\n",
        "    MarketingGenerator,\n",
        "    [\n",
        "        gr.Textbox(label=\"Enter your campaign title\", info=\"Leave blank if you don't have one\"),\n",
        "        gr.Textbox(label=\"Enter campaign brief\", info=\"Core elements\"),\n",
        "        gr.Slider(1, 10, value=4, label=\"Creativity of your campaign\", info=\"Choose between 1 and 10\"),\n",
        "        gr.Dropdown(\n",
        "            [\"Twitter\", \"Instagram\", \"Facebook\", \"Google Ads\", \"Website\"], label=\"Pick your communication platforms\", info=\"Adviced to pick one at a time for better result\"\n",
        "        ),\n",
        "        gr.CheckboxGroup([\"Paris\", \"Lyon\", \"Besancon\", \"Marseille\", \"All\"], label=\"Pick the cities it apply\"),\n",
        "    ],\n",
        "    outputs=gr.outputs.Textbox(label=\"Generated campaign\"),\n",
        "    examples=[\n",
        "        [\"Les 3J\", \"March 2023 sales up to 30% for clothes, shoes, bags.\", 10, [\"Twitter\"], [\"Paris\", \"Marseille\"]],\n",
        "        [\"Christmas Special\", \"Winter 2023 sales up to 40% on all products.\", 1, [\"Website\"], [\"All\"]],\n",
        "        [\"Father's day\", \"Get an original gift for father's day among our special selections\", 4, [\"Facebook\"], [\"Lyon\"]],\n",
        "    ]\n",
        ")\n",
        "# --------------------------------------------------------------------------------------------------------------------- #\n",
        "\n",
        "# Table 2 : Generate a summary\n",
        "def summarizer(content):\n",
        "    prompt = \"Provide a summary with about two sentences for the following article: \" + content\n",
        "    result = generation_model.predict(prompt, temperature=0.2, max_output_tokens=1024, top_k=40, top_p=0.8).text\n",
        "    return result\n",
        "\n",
        "demo2 = gr.Interface(\n",
        "    summarizer,\n",
        "    gr.Textbox(label=\"Enter your full text:\"),\n",
        "    outputs=gr.outputs.Textbox(label=\"Summarized content\"),\n",
        "    examples=[\n",
        "        \"\"\"The fashion industry has a very big impact on how people dress or see themselves. They use advertisements to try to show the public eye how they should. As time goes on the fashion industry is slowly changing. Hannah Berry's article \"The Fashion Industry: Free to Be an Individual\" addresses how for many years advertisements try to tell women that they have to use certain things or look a certain way to be attractive but now in modern day time the ads are changing to encourage women to be themselves and wear what they feel expresses them. She goes over two shoes ads that both encourage being yourself. Her article reflects the new found light in the fashion industry as now it tries to uplift women an inspire them to have confidence with themselves and to dress the way they want to dress; and look the way the way they want to look. \"\"\",\n",
        "        \"The iconic Galeries Lafayette dates from the late nineteenth century, and has become a genuine symbol of the “City of Light”, visited by over twenty-five million people each year. Its magnificently domed central hall – which covers 70,000 square metres (over three quarters of a million square feet) of retail space – fills an entire block of Boulevard Haussmann, one of several Parisian boulevards built by Napoleon. It’s in the 9th arrondissement, and the celebrated novelist Marcel Proust lived just down the road for many years. he raison d’être of Galeries Lafayette has always been to bring innovation and fashion together in the same space, and make them as widely visible and accessible as possible. To this end – and, frankly, to cock a snook at the competition – Théophile Bader took the decision to make high fashion affordable to all budgets, acquiring production capacity to produce his own fashion brand. He produced articles at the leading edge of fashion, but sold them much more affordably than his competitors.Doing this killed two birds with one stone. Access to fashion was democratised: no longer just for the wealthy few; and the store became wildly popular. To this day,efforts continue constantly to diversify its offering, which now includes men’s clothing, interior decoration, toys and tableware. The business works hard to retain as many shoppers as possible, through annual meetings with customers and strategies such as the well-known “3J” sale, created in 1958 to make excellent items of quality available at exceptionally low prices.\",\n",
        "        \"\"\"In 1969, a new shop for younger clients opened its doors on the other side of rue Mogador. “Club 20” carried cutting-edge fashion, music and drugstore products. In time, departments were added for men’s fashion and “Lafayette Gourmet”. In 1984 the main hall was completely reorganised to contain a variety of smaller boutique stores in the one space.\n",
        "\n",
        "2001 was a watershed year for the Lafayette brand, with a massive advertising campaign under the banner of “The Adventures of Laetitia Casta in Galeries Lafayette country”. This campaign had very broad reach both to Parisians and to incoming tourists. It was innovative, modern and offbeat, perfectly capturing the values, history and “spirit” of the store through a variety of images. The imaginative use of mannequins pioneered in this campaign continues to this day.\n",
        "\n",
        "The store also hosts prestigious events with major artists and designers. In order to strengthen and broaden the relationship between Lafayette and fashion, as well as other creative fields, the store opened the “Galerie des Galeries” – a space on the first floor freely accessible to everyone which highlights and explores the links between fashion, art and design.\"\"\",\n",
        "      ]\n",
        ")\n",
        "\n",
        "def predict(prompt, max_output_tokens, temperature, top_p, top_k):\n",
        "    result = generation_model.predict(\n",
        "        prompt,\n",
        "        temperature=temperature,\n",
        "        max_output_tokens=max_output_tokens,\n",
        "        top_k=top_k,\n",
        "        top_p=top_p).text\n",
        "    return result\n",
        "\n",
        "demo3 = gr.Interface(\n",
        "    predict,\n",
        "    [ gr.Textbox(label=\"Enter prompt:\", value=\"What are the top 10 trends in the fashion?\"),\n",
        "      gr.Slider(32, 1024, value=512, step = 32, label = \"max_output_tokens\"),\n",
        "      gr.Slider(0, 1, value=0.2, step = 0.1, label = \"temperature\"),\n",
        "      gr.Slider(0, 1, value=0.8, step = 0.1, label = \"top_p\"),\n",
        "      gr.Slider(1, 40, value=38, step = 1, label = \"top_k\"),\n",
        "    ],\n",
        "    outputs=gr.outputs.Textbox(label=\"Response\"),\n",
        "    examples=[\n",
        "        [\"What are the top 10 trends in the fashion?\"],\n",
        "        [\"Generate maketing campaign title for Gallery Lafayette for Winter 2023 sales\"],\n",
        "    ]\n",
        ")\n",
        "\n",
        "if __name__ == \"__main__\":\n",
        "    demo = gr.TabbedInterface([demo1, demo2, demo3], [\"Marketing Generator\", \"Summarizer\", \"General text generation\"])\n",
        "    demo.launch(share=True)\n"
      ],
      "metadata": {
        "id": "jBj-Lj-PpnKM"
      },
      "execution_count": null,
      "outputs": []
    },
    {
      "cell_type": "code",
      "source": [],
      "metadata": {
        "id": "_byB-8nPseRi"
      },
      "execution_count": null,
      "outputs": []
    }
  ]
}